{
 "cells": [
  {
   "cell_type": "markdown",
   "metadata": {},
   "source": [
    "# Weld Demo - Grizzly vs. Pandas Data Cleaning"
   ]
  },
  {
   "cell_type": "code",
   "execution_count": 3,
   "metadata": {
    "collapsed": true
   },
   "outputs": [],
   "source": [
    "import numpy as np\n",
    "import pandas as pd\n",
    "import time"
   ]
  },
  {
   "cell_type": "code",
   "execution_count": 4,
   "metadata": {
    "collapsed": true
   },
   "outputs": [],
   "source": [
    "# All Values we want to remove/normalize to \"nan\"\n",
    "na_values = ['NO CLUE', 'N/A', '0']"
   ]
  },
  {
   "cell_type": "markdown",
   "metadata": {},
   "source": [
    "### Loading Data"
   ]
  },
  {
   "cell_type": "code",
   "execution_count": 5,
   "metadata": {
    "collapsed": true
   },
   "outputs": [],
   "source": [
    "def load_service_request_data():\n",
    "    \"\"\"\n",
    "    Loads the Dataset into a Pandas DataFrame.\n",
    "    \"\"\"\n",
    "    requests = pd.read_csv('grizzly/data/311-service-requests.csv',\n",
    "                       na_values=na_values, dtype={'Incident Zip': str})\n",
    "    print \"Done reading input file...\"\n",
    "    return requests"
   ]
  },
  {
   "cell_type": "markdown",
   "metadata": {},
   "source": [
    "### Function to Clean Data\n",
    "\n",
    "This returns the running time and output length."
   ]
  },
  {
   "cell_type": "code",
   "execution_count": 6,
   "metadata": {
    "collapsed": true
   },
   "outputs": [],
   "source": [
    "def run_and_time_datacleaning(requests):\n",
    "    start = time.time()\n",
    "    \n",
    "    # Fix requests with extra digits\n",
    "    requests['Incident Zip'] = requests['Incident Zip'].str.slice(0, 5)\n",
    "\n",
    "    # Fix requests with 00000 zipcodes\n",
    "    zero_zips = requests['Incident Zip'] == '00000'\n",
    "    requests['Incident Zip'][zero_zips] = np.nan\n",
    "\n",
    "    # Display number of unique incident zips again (this time cleaned)\n",
    "    output = len(requests['Incident Zip'].unique())\n",
    "    end = time.time()\n",
    "    \n",
    "    print \"Total end-to-end time: %.2f\" % (end - start)\n",
    "    return output, end - start"
   ]
  },
  {
   "cell_type": "markdown",
   "metadata": {},
   "source": [
    "## Actually load the data"
   ]
  },
  {
   "cell_type": "code",
   "execution_count": 7,
   "metadata": {},
   "outputs": [
    {
     "name": "stdout",
     "output_type": "stream",
     "text": [
      "Done reading input file...\n",
      "         Incident Zip\n",
      "0               11432\n",
      "1               11432\n",
      "2               11432\n",
      "3               11432\n",
      "4               11432\n",
      "5               11432\n",
      "6               11432\n",
      "7               11432\n",
      "8               11432\n",
      "9               11432\n",
      "10              11432\n",
      "11              11432\n",
      "12              11432\n",
      "13              11432\n",
      "14              11432\n",
      "15              11432\n",
      "16              11432\n",
      "17              11432\n",
      "18              11432\n",
      "19              11432\n",
      "20              11432\n",
      "21              11432\n",
      "22              11432\n",
      "23              11432\n",
      "24              11432\n",
      "25              11432\n",
      "26              11432\n",
      "27              11432\n",
      "28              11432\n",
      "29              11432\n",
      "...               ...\n",
      "49406970        11236\n",
      "49406971        11236\n",
      "49406972        11236\n",
      "49406973        11236\n",
      "49406974        11236\n",
      "49406975        11236\n",
      "49406976        11236\n",
      "49406977        11236\n",
      "49406978        11236\n",
      "49406979        11236\n",
      "49406980        11236\n",
      "49406981        11236\n",
      "49406982        11236\n",
      "49406983        11236\n",
      "49406984        11236\n",
      "49406985        11236\n",
      "49406986        11236\n",
      "49406987        11236\n",
      "49406988        11236\n",
      "49406989        11236\n",
      "49406990        11236\n",
      "49406991        11236\n",
      "49406992        11236\n",
      "49406993        11236\n",
      "49406994        11236\n",
      "49406995        11236\n",
      "49406996        11236\n",
      "49406997        11236\n",
      "49406998        11236\n",
      "49406999        11236\n",
      "\n",
      "[49407000 rows x 1 columns]\n"
     ]
    }
   ],
   "source": [
    "requests = load_service_request_data()\n",
    "print requests"
   ]
  },
  {
   "cell_type": "markdown",
   "metadata": {},
   "source": [
    "## Run it with Pandas"
   ]
  },
  {
   "cell_type": "code",
   "execution_count": 8,
   "metadata": {},
   "outputs": [
    {
     "name": "stdout",
     "output_type": "stream",
     "text": [
      "Total end-to-end time: 12.76\n"
     ]
    }
   ],
   "source": [
    "requests_copy = requests.copy()\n",
    "output_pandas, runtime_pandas = run_and_time_datacleaning(requests_copy)"
   ]
  },
  {
   "cell_type": "markdown",
   "metadata": {},
   "source": [
    "## Run with Weldified Pandas (Grizzly)\n",
    "\n",
    "Note that we call the _same function_ with no code changes!"
   ]
  },
  {
   "cell_type": "code",
   "execution_count": 9,
   "metadata": {},
   "outputs": [
    {
     "name": "stdout",
     "output_type": "stream",
     "text": [
      "Total end-to-end time: 2.23\n"
     ]
    }
   ],
   "source": [
    "import grizzly.grizzly as gr\n",
    "import weldnumpy as np\n",
    "\n",
    "# Package the Pandas DataFrame into a Grizzly-backed DataFrame.\n",
    "requests_copy = gr.DataFrameWeld(requests.copy())\n",
    "output_grizzly, runtime_grizzly = run_and_time_datacleaning(requests_copy)"
   ]
  },
  {
   "cell_type": "markdown",
   "metadata": {},
   "source": [
    "## Run with Multiple Threads"
   ]
  },
  {
   "cell_type": "code",
   "execution_count": 10,
   "metadata": {},
   "outputs": [
    {
     "name": "stdout",
     "output_type": "stream",
     "text": [
      "Total end-to-end time: 0.77\n"
     ]
    }
   ],
   "source": [
    "import os\n",
    "os.environ[\"WELD_NUM_THREADS\"] = \"8\"\n",
    "\n",
    "# Package the Pandas DataFrame into a Grizzly-backed DataFrame.\n",
    "requests_copy = gr.DataFrameWeld(requests.copy())\n",
    "output_grizzly_threaded, runtime_grizzly_threaded = run_and_time_datacleaning(requests_copy)"
   ]
  },
  {
   "cell_type": "markdown",
   "metadata": {},
   "source": [
    "## Check Answers, Plot Runtimes"
   ]
  },
  {
   "cell_type": "code",
   "execution_count": 12,
   "metadata": {},
   "outputs": [
    {
     "data": {
      "image/png": "[encoded data removed]",
      "text/plain": [
       "<matplotlib.figure.Figure at 0x7fd3817a5510>"
      ]
     },
     "metadata": {},
     "output_type": "display_data"
    }
   ],
   "source": [
    "assert output_grizzly == output_pandas\n",
    "assert output_grizzly_threaded == output_pandas\n",
    "\n",
    "import plot_utils\n",
    "\n",
    "times = {\n",
    "    \"Pandas\": runtime_pandas,\n",
    "    \"Grizzly 1T\": runtime_grizzly,\n",
    "    \"Grizzly 8T\": runtime_grizzly_threaded\n",
    "}\n",
    "\n",
    "plot_utils.plot_results(times, \"Data Cleaning Runtimes\")"
   ]
  }
 ],
 "metadata": {
  "kernelspec": {
   "display_name": "Python 2",
   "language": "python",
   "name": "python2"
  },
  "language_info": {
   "codemirror_mode": {
    "name": "ipython",
    "version": 2
   },
   "file_extension": ".py",
   "mimetype": "text/x-python",
   "name": "python",
   "nbconvert_exporter": "python",
   "pygments_lexer": "ipython2",
   "version": "2.7.12"
  }
 },
 "nbformat": 4,
 "nbformat_minor": 2
}
