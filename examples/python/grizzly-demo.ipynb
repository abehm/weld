{
 "metadata": {
  "kernelspec": {
   "display_name": "Python 2",
   "language": "python",
   "name": "python2"
  },
  "language_info": {
   "codemirror_mode": {
    "name": "ipython",
    "version": 2
   },
   "file_extension": ".py",
   "mimetype": "text/x-python",
   "name": "python",
   "nbconvert_exporter": "python",
   "pygments_lexer": "ipython2",
   "version": "2.7.13"
  },
  "name": "",
  "signature": "sha256:7ff1037a7142f491a329040d873043862ae319fa42d7a7b65952e2691b2ca2fb"
 },
 "nbformat": 3,
 "nbformat_minor": 0,
 "worksheets": [
  {
   "cells": [
    {
     "cell_type": "heading",
     "level": 1,
     "metadata": {
      "deletable": true,
      "editable": true
     },
     "source": [
      "Weld Demo - Grizzly vs. Pandas Data Cleaning"
     ]
    },
    {
     "cell_type": "code",
     "collapsed": true,
     "input": [
      "import numpy as np\n",
      "import pandas as pd\n",
      "import time"
     ],
     "language": "python",
     "metadata": {
      "deletable": true,
      "editable": true
     },
     "outputs": [],
     "prompt_number": 10
    },
    {
     "cell_type": "code",
     "collapsed": true,
     "input": [
      "# All Values we want to remove/normalize to \"nan\"\n",
      "na_values = ['NO CLUE', 'N/A', '0']"
     ],
     "language": "python",
     "metadata": {
      "deletable": true,
      "editable": true
     },
     "outputs": [],
     "prompt_number": 11
    },
    {
     "cell_type": "heading",
     "level": 3,
     "metadata": {
      "deletable": true,
      "editable": true
     },
     "source": [
      "Loading Data"
     ]
    },
    {
     "cell_type": "code",
     "collapsed": true,
     "input": [
      "def load_service_request_data():\n",
      "    \"\"\"\n",
      "    Loads the Dataset into a Pandas DataFrame.\n",
      "    \"\"\"\n",
      "    requests = pd.read_csv('grizzly/data/311-service-requests.csv',\n",
      "                       na_values=na_values, dtype={'Incident Zip': str})\n",
      "    print \"Done reading input file...\"\n",
      "    return requests"
     ],
     "language": "python",
     "metadata": {
      "deletable": true,
      "editable": true
     },
     "outputs": [],
     "prompt_number": 12
    },
    {
     "cell_type": "markdown",
     "metadata": {
      "deletable": true,
      "editable": true
     },
     "source": [
      "### Function to Clean Data\n",
      "\n",
      "This returns the running time and output length."
     ]
    },
    {
     "cell_type": "code",
     "collapsed": true,
     "input": [
      "def run_and_time_datacleaning(requests):\n",
      "    start = time.time()\n",
      "    \n",
      "    # Fix requests with extra digits\n",
      "    requests['Incident Zip'] = requests['Incident Zip'].str.slice(0, 5)\n",
      "\n",
      "    # Fix requests with 00000 zipcodes\n",
      "    zero_zips = requests['Incident Zip'] == '00000'\n",
      "    requests['Incident Zip'][zero_zips] = np.nan\n",
      "\n",
      "    # Display number of unique incident zips again (this time cleaned)\n",
      "    output = len(requests['Incident Zip'].unique())\n",
      "    end = time.time()\n",
      "    \n",
      "    print output\n",
      "    print \"Total end-to-end time: %.2f\" % (end - start)\n",
      "    return output, end - start"
     ],
     "language": "python",
     "metadata": {
      "deletable": true,
      "editable": true
     },
     "outputs": [],
     "prompt_number": 13
    },
    {
     "cell_type": "heading",
     "level": 2,
     "metadata": {
      "deletable": true,
      "editable": true
     },
     "source": [
      "Actually load the data"
     ]
    },
    {
     "cell_type": "code",
     "collapsed": false,
     "input": [
      "requests = load_service_request_data()\n",
      "print requests"
     ],
     "language": "python",
     "metadata": {
      "deletable": true,
      "editable": true
     },
     "outputs": [
      {
       "output_type": "stream",
       "stream": "stdout",
       "text": [
        "Done reading input file...\n",
        "         Incident Zip\n",
        "0               11432\n",
        "1               11432\n",
        "2               11432\n",
        "3               11432\n",
        "4               11432\n",
        "5               11432\n",
        "6               11432\n",
        "7               11432\n",
        "8               11432\n",
        "9               11432\n",
        "10              11432\n",
        "11              11432\n",
        "12              11432\n",
        "13              11432\n",
        "14              11432\n",
        "15              11432\n",
        "16              11432\n",
        "17              11432\n",
        "18              11432\n",
        "19              11432\n",
        "20              11432\n",
        "21              11432\n",
        "22              11432\n",
        "23              11432\n",
        "24              11432\n",
        "25              11432\n",
        "26              11432\n",
        "27              11432\n",
        "28              11432\n",
        "29              11432\n",
        "...               ...\n",
        "39525570        11236\n",
        "39525571        11236\n",
        "39525572        11236\n",
        "39525573        11236\n",
        "39525574        11236\n",
        "39525575        11236\n",
        "39525576        11236\n",
        "39525577        11236\n",
        "39525578        11236\n",
        "39525579        11236\n",
        "39525580        11236\n",
        "39525581        11236\n",
        "39525582        11236\n",
        "39525583        11236\n",
        "39525584        11236\n",
        "39525585        11236\n",
        "39525586        11236\n",
        "39525587        11236\n",
        "39525588        11236\n",
        "39525589        11236\n",
        "39525590        11236\n",
        "39525591        11236\n",
        "39525592        11236\n",
        "39525593        11236\n",
        "39525594        11236\n",
        "39525595        11236\n",
        "39525596        11236\n",
        "39525597        11236\n",
        "39525598        11236\n",
        "39525599        11236\n",
        "\n",
        "[39525600 rows x 1 columns]\n"
       ]
      }
     ],
     "prompt_number": 14
    },
    {
     "cell_type": "heading",
     "level": 2,
     "metadata": {
      "deletable": true,
      "editable": true
     },
     "source": [
      "Run it with Pandas"
     ]
    },
    {
     "cell_type": "code",
     "collapsed": false,
     "input": [
      "requests_copy = requests.copy()\n",
      "output_pandas, runtime_pandas = run_and_time_datacleaning(requests_copy)"
     ],
     "language": "python",
     "metadata": {
      "deletable": true,
      "editable": true
     },
     "outputs": [
      {
       "output_type": "stream",
       "stream": "stdout",
       "text": [
        "246\n",
        "Total end-to-end time: 12.02\n"
       ]
      }
     ],
     "prompt_number": 15
    },
    {
     "cell_type": "markdown",
     "metadata": {
      "deletable": true,
      "editable": true
     },
     "source": [
      "## Run with Weldified Pandas (Grizzly)\n",
      "\n",
      "Note that we call the _same function_ with no code changes!"
     ]
    },
    {
     "cell_type": "code",
     "collapsed": false,
     "input": [
      "import grizzly.grizzly as gr\n",
      "import weldnumpy as np\n",
      "\n",
      "import os\n",
      "os.environ[\"WELD_NUM_THREADS\"] = \"1\"\n",
      "\n",
      "# Package the Pandas DataFrame into a Grizzly-backed DataFrame.\n",
      "requests_copy = gr.DataFrameWeld(requests.copy())\n",
      "output_grizzly, runtime_grizzly = run_and_time_datacleaning(requests_copy)"
     ],
     "language": "python",
     "metadata": {
      "deletable": true,
      "editable": true
     },
     "outputs": [
      {
       "output_type": "stream",
       "stream": "stdout",
       "text": [
        "246\n",
        "Total end-to-end time: 2.46\n"
       ]
      }
     ],
     "prompt_number": 19
    },
    {
     "cell_type": "heading",
     "level": 2,
     "metadata": {
      "deletable": true,
      "editable": true
     },
     "source": [
      "Run with Multiple Threads"
     ]
    },
    {
     "cell_type": "code",
     "collapsed": false,
     "input": [
      "os.environ[\"WELD_NUM_THREADS\"] = \"8\"\n",
      "\n",
      "# Package the Pandas DataFrame into a Grizzly-backed DataFrame.\n",
      "requests_copy = gr.DataFrameWeld(requests.copy())\n",
      "output_grizzly_threaded, runtime_grizzly_threaded = run_and_time_datacleaning(requests_copy)"
     ],
     "language": "python",
     "metadata": {
      "deletable": true,
      "editable": true
     },
     "outputs": [
      {
       "output_type": "stream",
       "stream": "stdout",
       "text": [
        "246\n",
        "Total end-to-end time: 0.88\n"
       ]
      }
     ],
     "prompt_number": 20
    },
    {
     "cell_type": "heading",
     "level": 2,
     "metadata": {
      "deletable": true,
      "editable": true
     },
     "source": [
      "Check Answers, Plot Runtimes"
     ]
    },
    {
     "cell_type": "code",
     "collapsed": false,
     "input": [
      "assert output_grizzly == output_pandas\n",
      "assert output_grizzly_threaded == output_pandas\n",
      "\n",
      "import plot_utils\n",
      "\n",
      "times = {\n",
      "    runtime_pandas: \"Pandas\",\n",
      "    runtime_grizzly: \"Grizzly 1T\",\n",
      "    runtime_grizzly_threaded: \"Grizzly 8T\"\n",
      "}\n",
      "\n",
      "plot_utils.plot_results(times, \"Data Cleaning Runtimes\")"
     ],
     "language": "python",
     "metadata": {
      "deletable": true,
      "editable": true
     },
     "outputs": [
      {
       "ename": "ImportError",
       "evalue": "No module named plot_utils",
       "output_type": "pyerr",
       "traceback": [
        "\u001b[0;31m---------------------------------------------------------------------------\u001b[0m\n\u001b[0;31mImportError\u001b[0m                               Traceback (most recent call last)",
        "\u001b[0;32m<ipython-input-18-e7d89b7c0ff3>\u001b[0m in \u001b[0;36m<module>\u001b[0;34m()\u001b[0m\n\u001b[1;32m      2\u001b[0m \u001b[0;32massert\u001b[0m \u001b[0moutput_grizzly_threaded\u001b[0m \u001b[0;34m==\u001b[0m \u001b[0moutput_pandas\u001b[0m\u001b[0;34m\u001b[0m\u001b[0m\n\u001b[1;32m      3\u001b[0m \u001b[0;34m\u001b[0m\u001b[0m\n\u001b[0;32m----> 4\u001b[0;31m \u001b[0;32mimport\u001b[0m \u001b[0mplot_utils\u001b[0m\u001b[0;34m\u001b[0m\u001b[0m\n\u001b[0m\u001b[1;32m      5\u001b[0m \u001b[0;34m\u001b[0m\u001b[0m\n\u001b[1;32m      6\u001b[0m times = {\n",
        "\u001b[0;31mImportError\u001b[0m: No module named plot_utils"
       ]
      }
     ],
     "prompt_number": 18
    },
    {
     "cell_type": "code",
     "collapsed": false,
     "input": [],
     "language": "python",
     "metadata": {},
     "outputs": []
    },
    {
     "cell_type": "code",
     "collapsed": false,
     "input": [],
     "language": "python",
     "metadata": {},
     "outputs": []
    }
   ],
   "metadata": {}
  }
 ]
}